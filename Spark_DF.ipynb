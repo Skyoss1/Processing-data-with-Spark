{
 "cells": [
  {
   "cell_type": "code",
   "execution_count": 1,
   "metadata": {},
   "outputs": [],
   "source": [
    "from pyspark.sql import SparkSession\n",
    "from pyspark.sql.types import *\n",
    "spark = SparkSession.builder \\\n",
    "    .appName(\"Baitapthuhanh2\") \\\n",
    "    .config(\"spark.sql.warehouse.dir\" , \"C:\\data\\Thuc_hanh\") \\\n",
    "    .getOrCreate()"
   ]
  },
  {
   "cell_type": "code",
   "execution_count": 2,
   "metadata": {},
   "outputs": [],
   "source": [
    "orders_schema_struct = StructType([\n",
    "    StructField(\"Row ID\", LongType()),\n",
    "    StructField(\"Order ID\", StringType()),\n",
    "    StructField(\"Order Date\", DateType()),\n",
    "    StructField(\"Ship Date\", DateType()),\n",
    "    StructField(\"Ship Mode\", StringType()),\n",
    "    StructField(\"Customer ID\", StringType()),\n",
    "    StructField(\"Customer Name\", StringType()),\n",
    "    StructField(\"Segment\", StringType()),\n",
    "    StructField(\"Country\", StringType()),\n",
    "    StructField(\"City\", StringType()),\n",
    "    StructField(\"State\", StringType()),\n",
    "    StructField(\"Postal Code\", LongType()),\n",
    "    StructField(\"Region\", StringType()),\n",
    "    StructField(\"Product ID\", StringType()),\n",
    "    StructField(\"Category\", StringType()),\n",
    "    StructField(\"Sub-Category\", StringType()),\n",
    "    StructField(\"Product Name\", StringType()),\n",
    "    StructField(\"Sales\", FloatType()),\n",
    "    StructField(\"Quantity\", IntegerType()),\n",
    "    StructField(\"Discount\", FloatType()),\n",
    "    StructField(\"Profit\", FloatType()),\n",
    "])"
   ]
  },
  {
   "cell_type": "code",
   "execution_count": 3,
   "metadata": {},
   "outputs": [],
   "source": [
    "orders_df = spark.read \\\n",
    "    .format(\"csv\") \\\n",
    "    .option(\"delimiter\", \";\") \\\n",
    "    .option(\"header\", \"true\") \\\n",
    "    .schema(orders_schema_struct) \\\n",
    "    .load(\"c:/data/Sample_Superstore_0_converted.csv\")"
   ]
  },
  {
   "cell_type": "code",
   "execution_count": 4,
   "metadata": {},
   "outputs": [
    {
     "name": "stdout",
     "output_type": "stream",
     "text": [
      "+------+--------+----------+---------+---------+-----------+-------------+-------+-------+----+-----+-----------+------+----------+--------+------------+------------+-----+--------+--------+------+\n",
      "|Row ID|Order ID|Order Date|Ship Date|Ship Mode|Customer ID|Customer Name|Segment|Country|City|State|Postal Code|Region|Product ID|Category|Sub-Category|Product Name|Sales|Quantity|Discount|Profit|\n",
      "+------+--------+----------+---------+---------+-----------+-------------+-------+-------+----+-----+-----------+------+----------+--------+------------+------------+-----+--------+--------+------+\n",
      "|  NULL|    NULL|      NULL|     NULL|     NULL|       NULL|         NULL|   NULL|   NULL|NULL| NULL|       NULL|  NULL|      NULL|    NULL|        NULL|        NULL| NULL|    NULL|    NULL|  NULL|\n",
      "|  NULL|    NULL|      NULL|     NULL|     NULL|       NULL|         NULL|   NULL|   NULL|NULL| NULL|       NULL|  NULL|      NULL|    NULL|        NULL|        NULL| NULL|    NULL|    NULL|  NULL|\n",
      "|  NULL|    NULL|      NULL|     NULL|     NULL|       NULL|         NULL|   NULL|   NULL|NULL| NULL|       NULL|  NULL|      NULL|    NULL|        NULL|        NULL| NULL|    NULL|    NULL|  NULL|\n",
      "|  NULL|    NULL|      NULL|     NULL|     NULL|       NULL|         NULL|   NULL|   NULL|NULL| NULL|       NULL|  NULL|      NULL|    NULL|        NULL|        NULL| NULL|    NULL|    NULL|  NULL|\n",
      "|  NULL|    NULL|      NULL|     NULL|     NULL|       NULL|         NULL|   NULL|   NULL|NULL| NULL|       NULL|  NULL|      NULL|    NULL|        NULL|        NULL| NULL|    NULL|    NULL|  NULL|\n",
      "|  NULL|    NULL|      NULL|     NULL|     NULL|       NULL|         NULL|   NULL|   NULL|NULL| NULL|       NULL|  NULL|      NULL|    NULL|        NULL|        NULL| NULL|    NULL|    NULL|  NULL|\n",
      "|  NULL|    NULL|      NULL|     NULL|     NULL|       NULL|         NULL|   NULL|   NULL|NULL| NULL|       NULL|  NULL|      NULL|    NULL|        NULL|        NULL| NULL|    NULL|    NULL|  NULL|\n",
      "|  NULL|    NULL|      NULL|     NULL|     NULL|       NULL|         NULL|   NULL|   NULL|NULL| NULL|       NULL|  NULL|      NULL|    NULL|        NULL|        NULL| NULL|    NULL|    NULL|  NULL|\n",
      "|  NULL|    NULL|      NULL|     NULL|     NULL|       NULL|         NULL|   NULL|   NULL|NULL| NULL|       NULL|  NULL|      NULL|    NULL|        NULL|        NULL| NULL|    NULL|    NULL|  NULL|\n",
      "|  NULL|    NULL|      NULL|     NULL|     NULL|       NULL|         NULL|   NULL|   NULL|NULL| NULL|       NULL|  NULL|      NULL|    NULL|        NULL|        NULL| NULL|    NULL|    NULL|  NULL|\n",
      "|  NULL|    NULL|      NULL|     NULL|     NULL|       NULL|         NULL|   NULL|   NULL|NULL| NULL|       NULL|  NULL|      NULL|    NULL|        NULL|        NULL| NULL|    NULL|    NULL|  NULL|\n",
      "|  NULL|    NULL|      NULL|     NULL|     NULL|       NULL|         NULL|   NULL|   NULL|NULL| NULL|       NULL|  NULL|      NULL|    NULL|        NULL|        NULL| NULL|    NULL|    NULL|  NULL|\n",
      "+------+--------+----------+---------+---------+-----------+-------------+-------+-------+----+-----+-----------+------+----------+--------+------------+------------+-----+--------+--------+------+\n",
      "only showing top 12 rows\n",
      "\n"
     ]
    }
   ],
   "source": [
    "orders_df.show(12)"
   ]
  },
  {
   "cell_type": "code",
   "execution_count": 5,
   "metadata": {},
   "outputs": [],
   "source": [
    "orders_df.createOrReplaceTempView(\"orders_tmp\")"
   ]
  },
  {
   "cell_type": "code",
   "execution_count": 6,
   "metadata": {},
   "outputs": [
    {
     "name": "stdout",
     "output_type": "stream",
     "text": [
      "+------+--------+----------+---------+---------+-----------+-------------+-------+-------+----+-----+-----------+------+----------+--------+------------+------------+-----+--------+--------+------+\n",
      "|Row ID|Order ID|Order Date|Ship Date|Ship Mode|Customer ID|Customer Name|Segment|Country|City|State|Postal Code|Region|Product ID|Category|Sub-Category|Product Name|Sales|Quantity|Discount|Profit|\n",
      "+------+--------+----------+---------+---------+-----------+-------------+-------+-------+----+-----+-----------+------+----------+--------+------------+------------+-----+--------+--------+------+\n",
      "|  NULL|    NULL|      NULL|     NULL|     NULL|       NULL|         NULL|   NULL|   NULL|NULL| NULL|       NULL|  NULL|      NULL|    NULL|        NULL|        NULL| NULL|    NULL|    NULL|  NULL|\n",
      "|  NULL|    NULL|      NULL|     NULL|     NULL|       NULL|         NULL|   NULL|   NULL|NULL| NULL|       NULL|  NULL|      NULL|    NULL|        NULL|        NULL| NULL|    NULL|    NULL|  NULL|\n",
      "|  NULL|    NULL|      NULL|     NULL|     NULL|       NULL|         NULL|   NULL|   NULL|NULL| NULL|       NULL|  NULL|      NULL|    NULL|        NULL|        NULL| NULL|    NULL|    NULL|  NULL|\n",
      "|  NULL|    NULL|      NULL|     NULL|     NULL|       NULL|         NULL|   NULL|   NULL|NULL| NULL|       NULL|  NULL|      NULL|    NULL|        NULL|        NULL| NULL|    NULL|    NULL|  NULL|\n",
      "|  NULL|    NULL|      NULL|     NULL|     NULL|       NULL|         NULL|   NULL|   NULL|NULL| NULL|       NULL|  NULL|      NULL|    NULL|        NULL|        NULL| NULL|    NULL|    NULL|  NULL|\n",
      "+------+--------+----------+---------+---------+-----------+-------------+-------+-------+----+-----+-----------+------+----------+--------+------------+------------+-----+--------+--------+------+\n",
      "only showing top 5 rows\n",
      "\n"
     ]
    }
   ],
   "source": [
    "spark.sql(\"select * from orders_tmp\").show(5)"
   ]
  },
  {
   "cell_type": "code",
   "execution_count": 7,
   "metadata": {},
   "outputs": [
    {
     "name": "stdout",
     "output_type": "stream",
     "text": [
      "+-------+-----+\n",
      "|Segment|count|\n",
      "+-------+-----+\n",
      "|   NULL| 9994|\n",
      "+-------+-----+\n",
      "\n"
     ]
    }
   ],
   "source": [
    "orders_df.groupBy(\"Segment\").count().show()"
   ]
  },
  {
   "cell_type": "code",
   "execution_count": 8,
   "metadata": {},
   "outputs": [
    {
     "name": "stdout",
     "output_type": "stream",
     "text": [
      "+-------+--------+\n",
      "|Segment|count(1)|\n",
      "+-------+--------+\n",
      "|   NULL|    9994|\n",
      "+-------+--------+\n",
      "\n"
     ]
    }
   ],
   "source": [
    "spark.sql(\"select Segment, count(*) from orders_tmp group by Segment\").show()"
   ]
  },
  {
   "cell_type": "code",
   "execution_count": 9,
   "metadata": {},
   "outputs": [
    {
     "name": "stdout",
     "output_type": "stream",
     "text": [
      "+-------------+-----+\n",
      "|Customer Name|count|\n",
      "+-------------+-----+\n",
      "|         NULL| 9994|\n",
      "+-------------+-----+\n",
      "\n"
     ]
    }
   ],
   "source": [
    "orders_df.groupBy(\"Customer Name\").count().sort(\"count\", ascending = False).show(10)"
   ]
  },
  {
   "cell_type": "code",
   "execution_count": 10,
   "metadata": {},
   "outputs": [
    {
     "name": "stdout",
     "output_type": "stream",
     "text": [
      "+-------------+-----+\n",
      "|Customer Name|count|\n",
      "+-------------+-----+\n",
      "|         NULL| 9994|\n",
      "+-------------+-----+\n",
      "\n"
     ]
    }
   ],
   "source": [
    "spark.sql(\"select `Customer Name`, count(*) as count from orders_tmp group by `Customer Name` order by count desc limit 10\").show()\n"
   ]
  },
  {
   "cell_type": "code",
   "execution_count": 11,
   "metadata": {},
   "outputs": [
    {
     "data": {
      "text/plain": [
       "1"
      ]
     },
     "execution_count": 11,
     "metadata": {},
     "output_type": "execute_result"
    }
   ],
   "source": [
    "orders_df.select(\"Customer Name\").distinct().count()"
   ]
  },
  {
   "cell_type": "code",
   "execution_count": 12,
   "metadata": {},
   "outputs": [
    {
     "name": "stdout",
     "output_type": "stream",
     "text": [
      "+-----------+\n",
      "|numCustomer|\n",
      "+-----------+\n",
      "|          0|\n",
      "+-----------+\n",
      "\n"
     ]
    }
   ],
   "source": [
    "spark.sql(\"select count(distinct `Customer Name`) as numCustomer from orders_tmp\").show()"
   ]
  },
  {
   "cell_type": "code",
   "execution_count": 13,
   "metadata": {},
   "outputs": [
    {
     "name": "stdout",
     "output_type": "stream",
     "text": [
      "+-------------+-----+\n",
      "|Customer Name|count|\n",
      "+-------------+-----+\n",
      "+-------------+-----+\n",
      "\n"
     ]
    }
   ],
   "source": [
    "top1 = orders_df.where(\"Category = 'Technology'\").groupBy(\"Customer Name\").count().sort(\"count\", ascending = False).limit(1)\n",
    "top1.show()"
   ]
  },
  {
   "cell_type": "code",
   "execution_count": 14,
   "metadata": {},
   "outputs": [
    {
     "name": "stdout",
     "output_type": "stream",
     "text": [
      "+-------------+---------+\n",
      "|Customer Name|numOrders|\n",
      "+-------------+---------+\n",
      "+-------------+---------+\n",
      "\n"
     ]
    }
   ],
   "source": [
    "spark.sql(\"select `Customer Name`, count(*) as numOrders from orders_tmp where Category = 'Technology' group by `Customer Name` order by numOrders desc limit 1\").show()\n"
   ]
  },
  {
   "cell_type": "code",
   "execution_count": 15,
   "metadata": {},
   "outputs": [],
   "source": [
    "#thuchanhdataframe2"
   ]
  },
  {
   "cell_type": "code",
   "execution_count": 16,
   "metadata": {},
   "outputs": [
    {
     "name": "stdout",
     "output_type": "stream",
     "text": [
      "+------+--------+----------+---------+---------+-----------+-------------+-------+-------+----+-----+-----------+------+----------+--------+------------+------------+-----+--------+--------+------+\n",
      "|Row ID|Order ID|Order Date|Ship Date|Ship Mode|Customer ID|Customer Name|Segment|Country|City|State|Postal Code|Region|Product ID|Category|Sub-Category|Product Name|Sales|Quantity|Discount|Profit|\n",
      "+------+--------+----------+---------+---------+-----------+-------------+-------+-------+----+-----+-----------+------+----------+--------+------------+------------+-----+--------+--------+------+\n",
      "|  NULL|    NULL|      NULL|     NULL|     NULL|       NULL|         NULL|   NULL|   NULL|NULL| NULL|       NULL|  NULL|      NULL|    NULL|        NULL|        NULL| NULL|    NULL|    NULL|  NULL|\n",
      "|  NULL|    NULL|      NULL|     NULL|     NULL|       NULL|         NULL|   NULL|   NULL|NULL| NULL|       NULL|  NULL|      NULL|    NULL|        NULL|        NULL| NULL|    NULL|    NULL|  NULL|\n",
      "|  NULL|    NULL|      NULL|     NULL|     NULL|       NULL|         NULL|   NULL|   NULL|NULL| NULL|       NULL|  NULL|      NULL|    NULL|        NULL|        NULL| NULL|    NULL|    NULL|  NULL|\n",
      "|  NULL|    NULL|      NULL|     NULL|     NULL|       NULL|         NULL|   NULL|   NULL|NULL| NULL|       NULL|  NULL|      NULL|    NULL|        NULL|        NULL| NULL|    NULL|    NULL|  NULL|\n",
      "|  NULL|    NULL|      NULL|     NULL|     NULL|       NULL|         NULL|   NULL|   NULL|NULL| NULL|       NULL|  NULL|      NULL|    NULL|        NULL|        NULL| NULL|    NULL|    NULL|  NULL|\n",
      "+------+--------+----------+---------+---------+-----------+-------------+-------+-------+----+-----+-----------+------+----------+--------+------------+------------+-----+--------+--------+------+\n",
      "only showing top 5 rows\n",
      "\n"
     ]
    }
   ],
   "source": [
    "orders_df.createOrReplaceTempView(\"sales_order\")\n",
    "spark.sql(\"select * from sales_order\").show(5)"
   ]
  },
  {
   "cell_type": "code",
   "execution_count": 17,
   "metadata": {},
   "outputs": [
    {
     "name": "stdout",
     "output_type": "stream",
     "text": [
      "+--------+-----+--------+--------+-------+-----+\n",
      "|Order ID|Sales|Quantity|Discount|Profit1|Total|\n",
      "+--------+-----+--------+--------+-------+-----+\n",
      "|    NULL| NULL|    NULL|    NULL|   NULL| NULL|\n",
      "|    NULL| NULL|    NULL|    NULL|   NULL| NULL|\n",
      "|    NULL| NULL|    NULL|    NULL|   NULL| NULL|\n",
      "|    NULL| NULL|    NULL|    NULL|   NULL| NULL|\n",
      "|    NULL| NULL|    NULL|    NULL|   NULL| NULL|\n",
      "|    NULL| NULL|    NULL|    NULL|   NULL| NULL|\n",
      "|    NULL| NULL|    NULL|    NULL|   NULL| NULL|\n",
      "|    NULL| NULL|    NULL|    NULL|   NULL| NULL|\n",
      "|    NULL| NULL|    NULL|    NULL|   NULL| NULL|\n",
      "|    NULL| NULL|    NULL|    NULL|   NULL| NULL|\n",
      "+--------+-----+--------+--------+-------+-----+\n",
      "only showing top 10 rows\n",
      "\n"
     ]
    }
   ],
   "source": [
    "total = spark.sql(\"\"\"\n",
    "SELECT \n",
    "    `Order ID`,\n",
    "    Sales,\n",
    "    Quantity,\n",
    "    Discount,\n",
    "    Sales * Quantity AS Profit1,\n",
    "    Sales * Quantity * (1 - COALESCE(Discount, 0)) AS Total\n",
    "FROM sales_order\n",
    "\"\"\")\n",
    "\n",
    "total.show(10)"
   ]
  },
  {
   "cell_type": "code",
   "execution_count": null,
   "metadata": {},
   "outputs": [],
   "source": []
  }
 ],
 "metadata": {
  "kernelspec": {
   "display_name": "Python 3",
   "language": "python",
   "name": "python3"
  },
  "language_info": {
   "codemirror_mode": {
    "name": "ipython",
    "version": 3
   },
   "file_extension": ".py",
   "mimetype": "text/x-python",
   "name": "python",
   "nbconvert_exporter": "python",
   "pygments_lexer": "ipython3",
   "version": "3.10.11"
  }
 },
 "nbformat": 4,
 "nbformat_minor": 2
}
