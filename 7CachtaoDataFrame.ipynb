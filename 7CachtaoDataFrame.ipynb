{
 "cells": [
  {
   "cell_type": "code",
   "execution_count": 2,
   "metadata": {},
   "outputs": [],
   "source": [
    "from pyspark.sql import SparkSession\n",
    "from pyspark.sql.types import *\n",
    "spark = SparkSession.builder \\\n",
    "    .appName(\"7 cach tao data frame\") \\\n",
    "    .config(\"spark.sql.warehouse.dir\" , \"C:\\data\\Thuc_hanh\") \\\n",
    "    .getOrCreate()"
   ]
  },
  {
   "cell_type": "code",
   "execution_count": 3,
   "metadata": {},
   "outputs": [],
   "source": [
    "orders_schema_struct = StructType([\n",
    "    StructField(\"Row ID\", LongType()),\n",
    "    StructField(\"Order ID\", StringType()),\n",
    "    StructField(\"Order Date\", DateType()),\n",
    "    StructField(\"Ship Date\", DateType()),\n",
    "    StructField(\"Ship Mode\", StringType()),\n",
    "    StructField(\"Customer ID\", StringType()),\n",
    "    StructField(\"Customer Name\", StringType()),\n",
    "    StructField(\"Segment\", StringType()),\n",
    "    StructField(\"Country\", StringType()),\n",
    "    StructField(\"City\", StringType()),\n",
    "    StructField(\"State\", StringType()),\n",
    "    StructField(\"Postal Code\", LongType()),\n",
    "    StructField(\"Region\", StringType()),\n",
    "    StructField(\"Product ID\", StringType()),\n",
    "    StructField(\"Category\", StringType()),\n",
    "    StructField(\"Sub-Category\", StringType()),\n",
    "    StructField(\"Product Name\", StringType()),\n",
    "    StructField(\"Sales\", FloatType()),\n",
    "    StructField(\"Quantity\", LongType()),\n",
    "    StructField(\"Discount\", FloatType()),\n",
    "    StructField(\"Profit\", FloatType()),\n",
    "])"
   ]
  },
  {
   "cell_type": "code",
   "execution_count": 4,
   "metadata": {},
   "outputs": [],
   "source": [
    "df1 = spark.read \\\n",
    "    .format(\"csv\") \\\n",
    "    .option(\"delimiter\", \";\") \\\n",
    "    .option(\"header\", \"true\") \\\n",
    "    .schema(orders_schema_struct) \\\n",
    "    .load(\"c:/data/Sample_Superstore.csv\")"
   ]
  },
  {
   "cell_type": "code",
   "execution_count": 5,
   "metadata": {},
   "outputs": [
    {
     "name": "stdout",
     "output_type": "stream",
     "text": [
      "+------+--------------+----------+---------+--------------+-----------+---------------+---------+-------------+---------------+----------+-----------+------+---------------+---------------+------------+--------------------+-----+--------+--------+------+\n",
      "|Row ID|      Order ID|Order Date|Ship Date|     Ship Mode|Customer ID|  Customer Name|  Segment|      Country|           City|     State|Postal Code|Region|     Product ID|       Category|Sub-Category|        Product Name|Sales|Quantity|Discount|Profit|\n",
      "+------+--------------+----------+---------+--------------+-----------+---------------+---------+-------------+---------------+----------+-----------+------+---------------+---------------+------------+--------------------+-----+--------+--------+------+\n",
      "|     1|CA-2016-152156|      NULL|     NULL|  Second Class|   CG-12520|    Claire Gute| Consumer|United States|      Henderson|  Kentucky|      42420| South|FUR-BO-10001798|      Furniture|   Bookcases|Bush Somerset Col...| NULL|       2|     0.0|  NULL|\n",
      "|     2|CA-2016-152156|      NULL|     NULL|  Second Class|   CG-12520|    Claire Gute| Consumer|United States|      Henderson|  Kentucky|      42420| South|FUR-CH-10000454|      Furniture|      Chairs|Hon Deluxe Fabric...| NULL|       3|     0.0|  NULL|\n",
      "|     3|CA-2016-138688|      NULL|     NULL|  Second Class|   DV-13045|Darrin Van Huff|Corporate|United States|    Los Angeles|California|      90036|  West|OFF-LA-10000240|Office Supplies|      Labels|Self-Adhesive Add...| NULL|       2|     0.0|  NULL|\n",
      "|     4|US-2015-108966|      NULL|     NULL|Standard Class|   SO-20335| Sean O'Donnell| Consumer|United States|Fort Lauderdale|   Florida|      33311| South|FUR-TA-10000577|      Furniture|      Tables|Bretford CR4500 S...| NULL|       5|    NULL|  NULL|\n",
      "|     5|US-2015-108966|      NULL|     NULL|Standard Class|   SO-20335| Sean O'Donnell| Consumer|United States|Fort Lauderdale|   Florida|      33311| South|OFF-ST-10000760|Office Supplies|     Storage|Eldon Fold 'N Rol...| NULL|       2|    NULL|  NULL|\n",
      "+------+--------------+----------+---------+--------------+-----------+---------------+---------+-------------+---------------+----------+-----------+------+---------------+---------------+------------+--------------------+-----+--------+--------+------+\n",
      "only showing top 5 rows\n",
      "\n"
     ]
    }
   ],
   "source": [
    "#cach1 doc truc tiep tu file    \n",
    "df1.show(5)"
   ]
  },
  {
   "cell_type": "code",
   "execution_count": 8,
   "metadata": {},
   "outputs": [
    {
     "name": "stdout",
     "output_type": "stream",
     "text": [
      "+------+--------------+----------+---------+--------------+-----------+---------------+---------+-------------+---------------+----------+-----------+------+---------------+---------------+------------+--------------------+-----+--------+--------+------+\n",
      "|Row ID|      Order ID|Order Date|Ship Date|     Ship Mode|Customer ID|  Customer Name|  Segment|      Country|           City|     State|Postal Code|Region|     Product ID|       Category|Sub-Category|        Product Name|Sales|Quantity|Discount|Profit|\n",
      "+------+--------------+----------+---------+--------------+-----------+---------------+---------+-------------+---------------+----------+-----------+------+---------------+---------------+------------+--------------------+-----+--------+--------+------+\n",
      "|     1|CA-2016-152156|      NULL|     NULL|  Second Class|   CG-12520|    Claire Gute| Consumer|United States|      Henderson|  Kentucky|      42420| South|FUR-BO-10001798|      Furniture|   Bookcases|Bush Somerset Col...| NULL|       2|     0.0|  NULL|\n",
      "|     2|CA-2016-152156|      NULL|     NULL|  Second Class|   CG-12520|    Claire Gute| Consumer|United States|      Henderson|  Kentucky|      42420| South|FUR-CH-10000454|      Furniture|      Chairs|Hon Deluxe Fabric...| NULL|       3|     0.0|  NULL|\n",
      "|     3|CA-2016-138688|      NULL|     NULL|  Second Class|   DV-13045|Darrin Van Huff|Corporate|United States|    Los Angeles|California|      90036|  West|OFF-LA-10000240|Office Supplies|      Labels|Self-Adhesive Add...| NULL|       2|     0.0|  NULL|\n",
      "|     4|US-2015-108966|      NULL|     NULL|Standard Class|   SO-20335| Sean O'Donnell| Consumer|United States|Fort Lauderdale|   Florida|      33311| South|FUR-TA-10000577|      Furniture|      Tables|Bretford CR4500 S...| NULL|       5|    NULL|  NULL|\n",
      "|     5|US-2015-108966|      NULL|     NULL|Standard Class|   SO-20335| Sean O'Donnell| Consumer|United States|Fort Lauderdale|   Florida|      33311| South|OFF-ST-10000760|Office Supplies|     Storage|Eldon Fold 'N Rol...| NULL|       2|    NULL|  NULL|\n",
      "+------+--------------+----------+---------+--------------+-----------+---------------+---------+-------------+---------------+----------+-----------+------+---------------+---------------+------------+--------------------+-----+--------+--------+------+\n",
      "only showing top 5 rows\n",
      "\n"
     ]
    }
   ],
   "source": [
    "#cach2 input la ban du lieu da co san co the tuy bien tao data frame\n",
    "df1.createOrReplaceTempView(\"orders\")\n",
    "df2 = spark.sql(\"select * from orders\")\n",
    "df2.show(5)"
   ]
  },
  {
   "cell_type": "code",
   "execution_count": 10,
   "metadata": {},
   "outputs": [
    {
     "name": "stdout",
     "output_type": "stream",
     "text": [
      "+------+--------------+----------+---------+--------------+-----------+---------------+---------+-------------+---------------+----------+-----------+------+---------------+---------------+------------+--------------------+-----+--------+--------+------+\n",
      "|Row ID|      Order ID|Order Date|Ship Date|     Ship Mode|Customer ID|  Customer Name|  Segment|      Country|           City|     State|Postal Code|Region|     Product ID|       Category|Sub-Category|        Product Name|Sales|Quantity|Discount|Profit|\n",
      "+------+--------------+----------+---------+--------------+-----------+---------------+---------+-------------+---------------+----------+-----------+------+---------------+---------------+------------+--------------------+-----+--------+--------+------+\n",
      "|     1|CA-2016-152156|      NULL|     NULL|  Second Class|   CG-12520|    Claire Gute| Consumer|United States|      Henderson|  Kentucky|      42420| South|FUR-BO-10001798|      Furniture|   Bookcases|Bush Somerset Col...| NULL|       2|     0.0|  NULL|\n",
      "|     2|CA-2016-152156|      NULL|     NULL|  Second Class|   CG-12520|    Claire Gute| Consumer|United States|      Henderson|  Kentucky|      42420| South|FUR-CH-10000454|      Furniture|      Chairs|Hon Deluxe Fabric...| NULL|       3|     0.0|  NULL|\n",
      "|     3|CA-2016-138688|      NULL|     NULL|  Second Class|   DV-13045|Darrin Van Huff|Corporate|United States|    Los Angeles|California|      90036|  West|OFF-LA-10000240|Office Supplies|      Labels|Self-Adhesive Add...| NULL|       2|     0.0|  NULL|\n",
      "|     4|US-2015-108966|      NULL|     NULL|Standard Class|   SO-20335| Sean O'Donnell| Consumer|United States|Fort Lauderdale|   Florida|      33311| South|FUR-TA-10000577|      Furniture|      Tables|Bretford CR4500 S...| NULL|       5|    NULL|  NULL|\n",
      "|     5|US-2015-108966|      NULL|     NULL|Standard Class|   SO-20335| Sean O'Donnell| Consumer|United States|Fort Lauderdale|   Florida|      33311| South|OFF-ST-10000760|Office Supplies|     Storage|Eldon Fold 'N Rol...| NULL|       2|    NULL|  NULL|\n",
      "+------+--------------+----------+---------+--------------+-----------+---------------+---------+-------------+---------------+----------+-----------+------+---------------+---------------+------------+--------------------+-----+--------+--------+------+\n",
      "only showing top 5 rows\n",
      "\n"
     ]
    }
   ],
   "source": [
    "#cach 3 input la ban du lieu da co san it linh hoat hon cach 2\n",
    "df3 = spark.table(\"orders\")\n",
    "df3.show(5)"
   ]
  },
  {
   "cell_type": "code",
   "execution_count": 12,
   "metadata": {},
   "outputs": [
    {
     "name": "stdout",
     "output_type": "stream",
     "text": [
      "+---+\n",
      "| id|\n",
      "+---+\n",
      "|  0|\n",
      "|  1|\n",
      "|  2|\n",
      "|  3|\n",
      "|  4|\n",
      "+---+\n",
      "\n"
     ]
    }
   ],
   "source": [
    "#cach 4 muon tao nhanh 1 dataframe de co the test hoac muon demo 1 function nao day\n",
    "# range(start,end+1, buoc nhay)\n",
    "df4 = spark.range(5)\n",
    "df4.show()"
   ]
  },
  {
   "cell_type": "code",
   "execution_count": 16,
   "metadata": {},
   "outputs": [
    {
     "name": "stdout",
     "output_type": "stream",
     "text": [
      "root\n",
      " |-- id_orders: long (nullable = true)\n",
      " |-- date: string (nullable = true)\n",
      " |-- Id: long (nullable = true)\n",
      " |-- status: string (nullable = true)\n",
      "\n",
      "+---------+----------+------+---------------+\n",
      "|id_orders|      date|    Id|         status|\n",
      "+---------+----------+------+---------------+\n",
      "|        1|2013-07-25|123241|         CLOSED|\n",
      "|        2|2014-08-11|243425|PENDING_PAYMENT|\n",
      "|        3|2013-07-25|231132|       COMPLETE|\n",
      "+---------+----------+------+---------------+\n",
      "\n"
     ]
    }
   ],
   "source": [
    "#cach 5 \n",
    "list_orders = [(1,'2013-07-25',123241,'CLOSED'),(2,'2014-08-11',243425,'PENDING_PAYMENT'),(3,'2013-07-25',231132,'COMPLETE')]\n",
    "df5 = spark.createDataFrame(list_orders)\n",
    "df5 = df5.toDF('id_orders','date','Id','status')\n",
    "df5.printSchema()\n",
    "df5.show()"
   ]
  },
  {
   "cell_type": "code",
   "execution_count": 20,
   "metadata": {},
   "outputs": [
    {
     "name": "stdout",
     "output_type": "stream",
     "text": [
      "root\n",
      " |-- id_orders: long (nullable = true)\n",
      " |-- date: string (nullable = true)\n",
      " |-- Id: long (nullable = true)\n",
      " |-- status: string (nullable = true)\n",
      "\n",
      "+---------+----------+------+---------------+\n",
      "|id_orders|      date|    Id|         status|\n",
      "+---------+----------+------+---------------+\n",
      "|        1|2013-07-25|123241|         CLOSED|\n",
      "|        2|2014-08-11|243425|PENDING_PAYMENT|\n",
      "|        3|2013-07-25|231132|       COMPLETE|\n",
      "+---------+----------+------+---------------+\n",
      "\n"
     ]
    }
   ],
   "source": [
    "#cach 6\n",
    "orders_schema = \"id_orders long, date string, Id long, status string\"\n",
    "df6 = spark.createDataFrame(list_orders, orders_schema)\n",
    "df6.printSchema()\n",
    "df6.show()"
   ]
  },
  {
   "cell_type": "code",
   "execution_count": 33,
   "metadata": {},
   "outputs": [
    {
     "data": {
      "text/plain": [
       "[(1, '25/07/2013', 123241, 'CLOSED'),\n",
       " (2, '11/08/2014', 243425, 'PENDING_PAYMENT'),\n",
       " (3, '25/07/2013', 231132, 'COMPLETE')]"
      ]
     },
     "execution_count": 33,
     "metadata": {},
     "output_type": "execute_result"
    }
   ],
   "source": [
    "#cach 7 tao data frame tu RDD\n",
    "orders_rdd = spark.sparkContext.textFile(\"C:/data/orders.csv\")\n",
    "rdd = orders_rdd.map(lambda x: (int(x.split(\";\")[0]), x.split(\";\")[1], int(x.split(\";\")[2]), x.split(\";\")[3]))\n",
    "orders_schema = \"id_orders long, date string, Id long, status string\"\n",
    "rdd.take(3)\n"
   ]
  },
  {
   "cell_type": "code",
   "execution_count": 35,
   "metadata": {},
   "outputs": [
    {
     "name": "stdout",
     "output_type": "stream",
     "text": [
      "+---------+----------+------+---------------+\n",
      "|id_orders|      date|    Id|         status|\n",
      "+---------+----------+------+---------------+\n",
      "|        1|25/07/2013|123241|         CLOSED|\n",
      "|        2|11/08/2014|243425|PENDING_PAYMENT|\n",
      "|        3|25/07/2013|231132|       COMPLETE|\n",
      "+---------+----------+------+---------------+\n",
      "\n"
     ]
    }
   ],
   "source": [
    "df7 = spark.createDataFrame(rdd, orders_schema)\n",
    "df7.show()"
   ]
  }
 ],
 "metadata": {
  "kernelspec": {
   "display_name": "Python 3",
   "language": "python",
   "name": "python3"
  },
  "language_info": {
   "codemirror_mode": {
    "name": "ipython",
    "version": 3
   },
   "file_extension": ".py",
   "mimetype": "text/x-python",
   "name": "python",
   "nbconvert_exporter": "python",
   "pygments_lexer": "ipython3",
   "version": "3.10.11"
  }
 },
 "nbformat": 4,
 "nbformat_minor": 2
}
